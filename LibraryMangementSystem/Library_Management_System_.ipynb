{
  "nbformat": 4,
  "nbformat_minor": 0,
  "metadata": {
    "colab": {
      "provenance": []
    },
    "kernelspec": {
      "name": "python3",
      "display_name": "Python 3"
    },
    "language_info": {
      "name": "python"
    }
  },
  "cells": [
    {
      "cell_type": "code",
      "execution_count": 2,
      "metadata": {
        "colab": {
          "base_uri": "https://localhost:8080/"
        },
        "id": "xWvD-PaqlBX_",
        "outputId": "3f5d340e-a1c8-4247-c24a-70ad3775e85e"
      },
      "outputs": [
        {
          "output_type": "stream",
          "name": "stdout",
          "text": [
            "Enter the Title of your book : Women in Islam\n",
            "The book of Women in Islam add successfully in library\n"
          ]
        }
      ],
      "source": [
        "books={}\n",
        "def AddBooks():\n",
        "    book_title=input(\"Enter the Title of your book : \")\n",
        "    if book_title  in books:\n",
        "        print(f'the book {book_title} is already in library.' )\n",
        "    else:\n",
        "        books[book_title]=True\n",
        "        print(f\"The book of {book_title} add successfully in library\")\n",
        "AddBooks()"
      ]
    },
    {
      "cell_type": "code",
      "source": [
        "AddBooks()"
      ],
      "metadata": {
        "colab": {
          "base_uri": "https://localhost:8080/"
        },
        "id": "sh9zLE95mtRQ",
        "outputId": "d7b8250c-cd29-47a4-b1d6-b9959f9c8715"
      },
      "execution_count": 3,
      "outputs": [
        {
          "output_type": "stream",
          "name": "stdout",
          "text": [
            "Enter the Title of your book : Prayer in Islam\n",
            "The book of Prayer in Islam add successfully in library\n"
          ]
        }
      ]
    },
    {
      "cell_type": "code",
      "source": [
        "registed_members={}\n",
        "\n",
        "def registerMemeber():\n",
        "    member_id=input(\"Enter Member ID : \")\n",
        "    if member_id in registed_members:\n",
        "        print(f\"Member ID {member_id} is already registed\")\n",
        "    else:\n",
        "        member_name=input('Enter Member_Name : ')\n",
        "        registed_members[member_id]=member_name\n",
        "        print(f\"Member '{member_name}' with ID {member_id} has been registered.\")\n",
        "registerMemeber()"
      ],
      "metadata": {
        "colab": {
          "base_uri": "https://localhost:8080/"
        },
        "id": "x8iUtpcGlL_z",
        "outputId": "54df5e71-ff71-46f7-a2c7-a68d973c1d85"
      },
      "execution_count": 4,
      "outputs": [
        {
          "output_type": "stream",
          "name": "stdout",
          "text": [
            "Enter Member ID : 1\n",
            "Enter Member_Name : sara\n",
            "Member 'sara' with ID 1 has been registered.\n"
          ]
        }
      ]
    },
    {
      "cell_type": "code",
      "source": [
        "registerMemeber()"
      ],
      "metadata": {
        "colab": {
          "base_uri": "https://localhost:8080/"
        },
        "id": "puuivYwDnPjJ",
        "outputId": "42c79f95-3e9e-49fb-eed4-98de05d52535"
      },
      "execution_count": 5,
      "outputs": [
        {
          "output_type": "stream",
          "name": "stdout",
          "text": [
            "Enter Member ID : 2\n",
            "Enter Member_Name : khadija\n",
            "Member 'khadija' with ID 2 has been registered.\n"
          ]
        }
      ]
    },
    {
      "cell_type": "code",
      "source": [
        "borrowed_books={}\n",
        "def borrowBook():\n",
        "\n",
        "    member_id = input(\"Enter the member ID: \")\n",
        "    if member_id not in registed_members:\n",
        "        print(f\"Member ID {member_id} is not registered.\")\n",
        "    book_title = input(\"Enter the title of the book to borrow: \")\n",
        "    if book_title not in books:\n",
        "        print(f\"The book '{book_title}' does not exist in the library.\")\n",
        "    if not books[book_title]:\n",
        "        print(f\"The book '{book_title}' is currently borrowed by another member.\")\n",
        "    else:\n",
        "        books[book_title] = False\n",
        "        borrowed_books[book_title] = member_id\n",
        "        print(f\"Member '{registed_members[member_id]}' has borrowed the book '{book_title}'.\")\n",
        "borrowBook()"
      ],
      "metadata": {
        "colab": {
          "base_uri": "https://localhost:8080/"
        },
        "id": "322jEEqClxQH",
        "outputId": "04d003ba-05cd-4e36-d4c8-ee497b4dd7c1"
      },
      "execution_count": 6,
      "outputs": [
        {
          "output_type": "stream",
          "name": "stdout",
          "text": [
            "Enter the member ID: 1\n",
            "Enter the title of the book to borrow: Prayer in Islam\n",
            "Member 'sara' has borrowed the book 'Prayer in Islam'.\n"
          ]
        }
      ]
    },
    {
      "cell_type": "code",
      "source": [
        "\n",
        "def returnBook():\n",
        "    book_title=input(\"Enter title of book : \")\n",
        "    if book_title not in borrowed_books:\n",
        "        print(f'the book of {book_title} is not borrowed')\n",
        "    member_id = input('enter member_id: ')\n",
        "    if borrowed_books[book_title] != member_id:\n",
        "        print(f'Member ID {member_id} did not borrow the book {book_title}')\n",
        "\n",
        "    books[book_title]=True\n",
        "    del borrowed_books[book_title]\n",
        "    print(f'Member {registed_members[member_id]} has returned the book {book_title}')\n",
        "\n",
        "returnBook()"
      ],
      "metadata": {
        "colab": {
          "base_uri": "https://localhost:8080/"
        },
        "id": "saOBVez3l3eS",
        "outputId": "3f6d5e16-9574-4bc8-f286-d668851b16f4"
      },
      "execution_count": 7,
      "outputs": [
        {
          "output_type": "stream",
          "name": "stdout",
          "text": [
            "Enter title of book : Prayer in Islam\n",
            "enter member_id: 1\n",
            "Member sara has returned the book Prayer in Islam\n"
          ]
        }
      ]
    },
    {
      "cell_type": "code",
      "source": [
        "def generateReport():\n",
        "\n",
        "    for book_title ,availabe in books.items():\n",
        "        if availabe:\n",
        "            print(f'available books {book_title}')\n",
        "\n",
        "\n",
        "    for book_title, member_id in borrowed_books.items():\n",
        "        print(f'{book_title} borrowed by member {registed_members[member_id]} (ID: {member_id})')\n",
        "\n",
        "    for member_name,member_id in registed_members.items():\n",
        "        print(f'Member ID: {member_id}, Name: {member_name}')\n",
        "generateReport()"
      ],
      "metadata": {
        "colab": {
          "base_uri": "https://localhost:8080/"
        },
        "id": "8v4P66xKl7UN",
        "outputId": "a8a4d116-2cc7-41cb-8c07-8e9a14ae7e34"
      },
      "execution_count": 8,
      "outputs": [
        {
          "output_type": "stream",
          "name": "stdout",
          "text": [
            "available books Women in Islam\n",
            "available books Prayer in Islam\n",
            "Member ID: sara, Name: 1\n",
            "Member ID: khadija, Name: 2\n"
          ]
        }
      ]
    },
    {
      "cell_type": "code",
      "source": [
        "def main():\n",
        "\n",
        "  while True:\n",
        "      print('Enter 1 : if you wanna add book')\n",
        "      print('Enter 2 : if you wanna regist as memeber')\n",
        "      print('Enter 3 : if you wanna borrow book')\n",
        "      print('Enter 4 : if you wanna return book')\n",
        "      print('Enter 5 : if you wanna generate report')\n",
        "      print('Enter 6 : if you wanna exist from the program')\n",
        "\n",
        "      choice = int(input('Enter from 1-6 accroding your Operation : '))\n",
        "\n",
        "      if choice== 1:\n",
        "          book_title=input(\"Enter the Title of your book : \")\n",
        "          AddBooks()\n",
        "      elif choice==2:\n",
        "          member_id=input(\"Enter Member ID : \")\n",
        "          member_name=input('Enter Member_Name : ')\n",
        "          registerMemeber()\n",
        "      elif choice==3:\n",
        "          member_id = input(\"Enter the member ID: \")\n",
        "          book_title = input(\"Enter the title of the book to borrow: \")\n",
        "          borrowBook()\n",
        "      elif choice==4:\n",
        "          book_title=input(\"Enter title of book : \")\n",
        "          member_id = input('enter member_id: ')\n",
        "          returnBook()\n",
        "      elif choice==5:\n",
        "          generateReport()\n",
        "      elif choice==6:\n",
        "          print(\"Exiting the library system. Goodbye!\")\n",
        "          break\n",
        "      else:\n",
        "          print(\"Invalid choice. Please try again.\")\n",
        "main()\n",
        ""
      ],
      "metadata": {
        "colab": {
          "base_uri": "https://localhost:8080/"
        },
        "id": "e-YIGnCtmCB7",
        "outputId": "8692ea58-1a42-4f7a-8369-09e73d931ad0"
      },
      "execution_count": 10,
      "outputs": [
        {
          "output_type": "stream",
          "name": "stdout",
          "text": [
            "Enter 1 : if you wanna add book\n",
            "Enter 2 : if you wanna regist as memeber\n",
            "Enter 3 : if you wanna borrow book\n",
            "Enter 4 : if you wanna return book\n",
            "Enter 5 : if you wanna generate report\n",
            "Enter 6 : if you wanna exist from the program\n",
            "Enter from 1-6 accroding your Operation : 5\n",
            "available books Women in Islam\n",
            "available books Prayer in Islam\n",
            "Member ID: sara, Name: 1\n",
            "Member ID: khadija, Name: 2\n",
            "Enter 1 : if you wanna add book\n",
            "Enter 2 : if you wanna regist as memeber\n",
            "Enter 3 : if you wanna borrow book\n",
            "Enter 4 : if you wanna return book\n",
            "Enter 5 : if you wanna generate report\n",
            "Enter 6 : if you wanna exist from the program\n",
            "Enter from 1-6 accroding your Operation : 6\n",
            "Exiting the library system. Goodbye!\n"
          ]
        }
      ]
    },
    {
      "cell_type": "code",
      "source": [],
      "metadata": {
        "id": "GERCWzq2nkxQ"
      },
      "execution_count": null,
      "outputs": []
    }
  ]
}